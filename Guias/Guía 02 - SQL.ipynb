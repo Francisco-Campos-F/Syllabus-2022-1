{
  "nbformat": 4,
  "nbformat_minor": 0,
  "metadata": {
    "colab": {
      "name": "Guía 02 - SQL.ipynb",
      "provenance": [],
      "collapsed_sections": []
    },
    "kernelspec": {
      "name": "python3",
      "display_name": "Python 3"
    }
  },
  "cells": [
    {
      "cell_type": "markdown",
      "metadata": {
        "id": "vMe_cruNz0t3"
      },
      "source": [
        "#Guía 2: SQL\n",
        "\n",
        "En esta guía usted deberá realizar consultas SQL en un servidor virtual con PostgreSQL que contiene\n",
        "datos de películas extraídos de IMDb. El esquema de los datos es el siguiente:\n",
        "\n",
        "* $\\color{green}{\\textbf{pelicula}}(\\color{blue}{\\underline{\\text{nombre}}}, \\color{blue}{\\underline{\\text{anho}}}, \\color{blue}{\\text{calificacion}})$ \n",
        "* $\\color{green}{\\textbf{actor}}(\\color{blue}{\\underline{\\text{nombre}}}, \\color{blue}{\\text{genero}})$\n",
        "* $\\color{green}{\\textbf{personaje}}(\\color{blue}{\\underline{\\text{p_nombre}}}, \\color{blue}{\\underline{\\text{p_anho}}},  \\color{blue}{\\underline{\\text{a_nombre}}}, \\color{blue}{\\underline{\\text{personaje}}})$\n",
        "\n",
        "La tabla $\\color{green}{\\textbf{personaje}}$ usa llaves foráneas que hacen referencia a las tablas de $\\color{green}{\\textbf{actor}}(\\color{blue}{\\underline{\\text{a_nombre}}})$ y $\\color{green}{\\textbf{pelicula}}(\\color{blue}{\\underline{\\text{p_nombre}}}, \\color{blue}{\\underline{\\text{p_anho}}})$.\n",
        "\n",
        "Para iniciar el servidor virtual, instalar la base de datos postgres, y descargar los datos e importarlos, debe correr el siguiente bloque:\n",
        "\n"
      ]
    },
    {
      "cell_type": "code",
      "metadata": {
        "id": "xN9MrCqDyMym",
        "colab": {
          "base_uri": "https://localhost:8080/",
          "height": 486
        },
        "outputId": "84cf1126-cd19-46dc-a6f6-aadb51ac3e03"
      },
      "source": [
        "# install\n",
        "!apt update\n",
        "!apt install postgresql postgresql-contrib &>log\n",
        "!service postgresql start\n",
        "!sudo -u postgres psql -c \"CREATE USER root WITH SUPERUSER\"\n",
        "# set connection\n",
        "%load_ext sql\n",
        "%config SqlMagic.feedback=False \n",
        "%config SqlMagic.autopandas=True\n",
        "%sql postgresql+psycopg2://@/postgres\n",
        "!wget -cO - https://drive.google.com/uc\\?export\\=download\\&id\\=1g7UsolqIt5CatIUiWKQNiQ4sT6zsCZnk > /content/guia2.sql\n",
        "!psql postgres < /content/guia2.sql\n",
        "%sql set search_path to guia;"
      ],
      "execution_count": 11,
      "outputs": [
        {
          "output_type": "stream",
          "name": "stdout",
          "text": [
            "Hit:1 http://ppa.launchpad.net/c2d4u.team/c2d4u4.0+/ubuntu bionic InRelease\n",
            "Hit:2 http://ppa.launchpad.net/cran/libgit2/ubuntu bionic InRelease\n",
            "Hit:3 http://ppa.launchpad.net/deadsnakes/ppa/ubuntu bionic InRelease\n",
            "Hit:4 http://ppa.launchpad.net/graphics-drivers/ppa/ubuntu bionic InRelease\n",
            "Hit:5 https://cloud.r-project.org/bin/linux/ubuntu bionic-cran40/ InRelease\n",
            "0% [1 InRelease gpgv 15.9 kB] [Waiting for headers] [Waiting for headers] [Wait\u001b[0m^C\n",
            " * Starting PostgreSQL 10 database server\n",
            "   ...done.\n",
            "ERROR:  role \"root\" already exists\n",
            "The sql extension is already loaded. To reload it, use:\n",
            "  %reload_ext sql\n",
            "--2022-03-23 20:59:00--  https://drive.google.com/uc?export=download&id=1g7UsolqIt5CatIUiWKQNiQ4sT6zsCZnk\n",
            "Resolving drive.google.com (drive.google.com)... 108.177.119.102, 108.177.119.138, 108.177.119.101, ...\n",
            "Connecting to drive.google.com (drive.google.com)|108.177.119.102|:443... connected.\n",
            "HTTP request sent, awaiting response... 303 See Other\n",
            "Location: https://doc-08-3k-docs.googleusercontent.com/docs/securesc/ha0ro937gcuc7l7deffksulhg5h7mbp1/er7sqdadljkmbt7bm6fakc6m1t1lpgo6/1648069125000/16747396958771604789/*/1g7UsolqIt5CatIUiWKQNiQ4sT6zsCZnk?e=download [following]\n",
            "Warning: wildcards not supported in HTTP.\n",
            "--2022-03-23 20:59:00--  https://doc-08-3k-docs.googleusercontent.com/docs/securesc/ha0ro937gcuc7l7deffksulhg5h7mbp1/er7sqdadljkmbt7bm6fakc6m1t1lpgo6/1648069125000/16747396958771604789/*/1g7UsolqIt5CatIUiWKQNiQ4sT6zsCZnk?e=download\n",
            "Resolving doc-08-3k-docs.googleusercontent.com (doc-08-3k-docs.googleusercontent.com)... 108.177.127.132, 2a00:1450:4013:c07::84\n",
            "Connecting to doc-08-3k-docs.googleusercontent.com (doc-08-3k-docs.googleusercontent.com)|108.177.127.132|:443... connected.\n",
            "HTTP request sent, awaiting response... 403 Forbidden\n",
            "2022-03-23 20:59:00 ERROR 403: Forbidden.\n",
            "\n",
            " * postgresql+psycopg2://@/postgres\n"
          ]
        },
        {
          "output_type": "execute_result",
          "data": {
            "text/plain": [
              "Empty DataFrame\n",
              "Columns: []\n",
              "Index: []"
            ],
            "text/html": [
              "\n",
              "  <div id=\"df-07b2c7f0-7640-4db3-916a-707915c38372\">\n",
              "    <div class=\"colab-df-container\">\n",
              "      <div>\n",
              "<style scoped>\n",
              "    .dataframe tbody tr th:only-of-type {\n",
              "        vertical-align: middle;\n",
              "    }\n",
              "\n",
              "    .dataframe tbody tr th {\n",
              "        vertical-align: top;\n",
              "    }\n",
              "\n",
              "    .dataframe thead th {\n",
              "        text-align: right;\n",
              "    }\n",
              "</style>\n",
              "<table border=\"1\" class=\"dataframe\">\n",
              "  <thead>\n",
              "    <tr style=\"text-align: right;\">\n",
              "      <th></th>\n",
              "    </tr>\n",
              "  </thead>\n",
              "  <tbody>\n",
              "  </tbody>\n",
              "</table>\n",
              "</div>\n",
              "      <button class=\"colab-df-convert\" onclick=\"convertToInteractive('df-07b2c7f0-7640-4db3-916a-707915c38372')\"\n",
              "              title=\"Convert this dataframe to an interactive table.\"\n",
              "              style=\"display:none;\">\n",
              "        \n",
              "  <svg xmlns=\"http://www.w3.org/2000/svg\" height=\"24px\"viewBox=\"0 0 24 24\"\n",
              "       width=\"24px\">\n",
              "    <path d=\"M0 0h24v24H0V0z\" fill=\"none\"/>\n",
              "    <path d=\"M18.56 5.44l.94 2.06.94-2.06 2.06-.94-2.06-.94-.94-2.06-.94 2.06-2.06.94zm-11 1L8.5 8.5l.94-2.06 2.06-.94-2.06-.94L8.5 2.5l-.94 2.06-2.06.94zm10 10l.94 2.06.94-2.06 2.06-.94-2.06-.94-.94-2.06-.94 2.06-2.06.94z\"/><path d=\"M17.41 7.96l-1.37-1.37c-.4-.4-.92-.59-1.43-.59-.52 0-1.04.2-1.43.59L10.3 9.45l-7.72 7.72c-.78.78-.78 2.05 0 2.83L4 21.41c.39.39.9.59 1.41.59.51 0 1.02-.2 1.41-.59l7.78-7.78 2.81-2.81c.8-.78.8-2.07 0-2.86zM5.41 20L4 18.59l7.72-7.72 1.47 1.35L5.41 20z\"/>\n",
              "  </svg>\n",
              "      </button>\n",
              "      \n",
              "  <style>\n",
              "    .colab-df-container {\n",
              "      display:flex;\n",
              "      flex-wrap:wrap;\n",
              "      gap: 12px;\n",
              "    }\n",
              "\n",
              "    .colab-df-convert {\n",
              "      background-color: #E8F0FE;\n",
              "      border: none;\n",
              "      border-radius: 50%;\n",
              "      cursor: pointer;\n",
              "      display: none;\n",
              "      fill: #1967D2;\n",
              "      height: 32px;\n",
              "      padding: 0 0 0 0;\n",
              "      width: 32px;\n",
              "    }\n",
              "\n",
              "    .colab-df-convert:hover {\n",
              "      background-color: #E2EBFA;\n",
              "      box-shadow: 0px 1px 2px rgba(60, 64, 67, 0.3), 0px 1px 3px 1px rgba(60, 64, 67, 0.15);\n",
              "      fill: #174EA6;\n",
              "    }\n",
              "\n",
              "    [theme=dark] .colab-df-convert {\n",
              "      background-color: #3B4455;\n",
              "      fill: #D2E3FC;\n",
              "    }\n",
              "\n",
              "    [theme=dark] .colab-df-convert:hover {\n",
              "      background-color: #434B5C;\n",
              "      box-shadow: 0px 1px 3px 1px rgba(0, 0, 0, 0.15);\n",
              "      filter: drop-shadow(0px 1px 2px rgba(0, 0, 0, 0.3));\n",
              "      fill: #FFFFFF;\n",
              "    }\n",
              "  </style>\n",
              "\n",
              "      <script>\n",
              "        const buttonEl =\n",
              "          document.querySelector('#df-07b2c7f0-7640-4db3-916a-707915c38372 button.colab-df-convert');\n",
              "        buttonEl.style.display =\n",
              "          google.colab.kernel.accessAllowed ? 'block' : 'none';\n",
              "\n",
              "        async function convertToInteractive(key) {\n",
              "          const element = document.querySelector('#df-07b2c7f0-7640-4db3-916a-707915c38372');\n",
              "          const dataTable =\n",
              "            await google.colab.kernel.invokeFunction('convertToInteractive',\n",
              "                                                     [key], {});\n",
              "          if (!dataTable) return;\n",
              "\n",
              "          const docLinkHtml = 'Like what you see? Visit the ' +\n",
              "            '<a target=\"_blank\" href=https://colab.research.google.com/notebooks/data_table.ipynb>data table notebook</a>'\n",
              "            + ' to learn more about interactive tables.';\n",
              "          element.innerHTML = '';\n",
              "          dataTable['output_type'] = 'display_data';\n",
              "          await google.colab.output.renderOutput(dataTable, element);\n",
              "          const docLink = document.createElement('div');\n",
              "          docLink.innerHTML = docLinkHtml;\n",
              "          element.appendChild(docLink);\n",
              "        }\n",
              "      </script>\n",
              "    </div>\n",
              "  </div>\n",
              "  "
            ]
          },
          "metadata": {},
          "execution_count": 11
        }
      ]
    },
    {
      "cell_type": "markdown",
      "metadata": {
        "id": "ydn64zTV5o9m"
      },
      "source": [
        "Ejecute la siguiente consulta para probar que todo ande bien:"
      ]
    },
    {
      "cell_type": "code",
      "metadata": {
        "id": "YswMeCEv2NKP",
        "colab": {
          "base_uri": "https://localhost:8080/"
        },
        "outputId": "cfdf4b1b-8673-461d-f2de-d2e22d46d3ea"
      },
      "source": [
        "%sql select * from pelicula;"
      ],
      "execution_count": 1,
      "outputs": [
        {
          "output_type": "stream",
          "name": "stderr",
          "text": [
            "UsageError: Line magic function `%sql` not found.\n"
          ]
        }
      ]
    },
    {
      "cell_type": "markdown",
      "metadata": {
        "id": "ETAuRqPi5vxa"
      },
      "source": [
        "Para ejecutar consultas multi-lineas use el tag %%sql:"
      ]
    },
    {
      "cell_type": "code",
      "metadata": {
        "colab": {
          "base_uri": "https://localhost:8080/",
          "height": 130
        },
        "id": "LvtXc3xx50Cc",
        "outputId": "11137c94-a136-48ea-83e5-6e5d94ffcf7f"
      },
      "source": [
        "%%sql\n",
        "SELECT * FROM \n",
        "pelicula\n",
        "where nombre ilike '%terminator%';"
      ],
      "execution_count": 8,
      "outputs": [
        {
          "output_type": "stream",
          "name": "stdout",
          "text": [
            " * postgresql+psycopg2://@/postgres\n"
          ]
        },
        {
          "output_type": "execute_result",
          "data": {
            "text/plain": [
              "                       nombre  anho  calificacion\n",
              "0  Terminator 2: Judgment Day  1991           8.5\n",
              "1              The Terminator  1984           8.0"
            ],
            "text/html": [
              "\n",
              "  <div id=\"df-31e9c580-033c-4d61-8a25-4b4828f8a2e4\">\n",
              "    <div class=\"colab-df-container\">\n",
              "      <div>\n",
              "<style scoped>\n",
              "    .dataframe tbody tr th:only-of-type {\n",
              "        vertical-align: middle;\n",
              "    }\n",
              "\n",
              "    .dataframe tbody tr th {\n",
              "        vertical-align: top;\n",
              "    }\n",
              "\n",
              "    .dataframe thead th {\n",
              "        text-align: right;\n",
              "    }\n",
              "</style>\n",
              "<table border=\"1\" class=\"dataframe\">\n",
              "  <thead>\n",
              "    <tr style=\"text-align: right;\">\n",
              "      <th></th>\n",
              "      <th>nombre</th>\n",
              "      <th>anho</th>\n",
              "      <th>calificacion</th>\n",
              "    </tr>\n",
              "  </thead>\n",
              "  <tbody>\n",
              "    <tr>\n",
              "      <th>0</th>\n",
              "      <td>Terminator 2: Judgment Day</td>\n",
              "      <td>1991</td>\n",
              "      <td>8.5</td>\n",
              "    </tr>\n",
              "    <tr>\n",
              "      <th>1</th>\n",
              "      <td>The Terminator</td>\n",
              "      <td>1984</td>\n",
              "      <td>8.0</td>\n",
              "    </tr>\n",
              "  </tbody>\n",
              "</table>\n",
              "</div>\n",
              "      <button class=\"colab-df-convert\" onclick=\"convertToInteractive('df-31e9c580-033c-4d61-8a25-4b4828f8a2e4')\"\n",
              "              title=\"Convert this dataframe to an interactive table.\"\n",
              "              style=\"display:none;\">\n",
              "        \n",
              "  <svg xmlns=\"http://www.w3.org/2000/svg\" height=\"24px\"viewBox=\"0 0 24 24\"\n",
              "       width=\"24px\">\n",
              "    <path d=\"M0 0h24v24H0V0z\" fill=\"none\"/>\n",
              "    <path d=\"M18.56 5.44l.94 2.06.94-2.06 2.06-.94-2.06-.94-.94-2.06-.94 2.06-2.06.94zm-11 1L8.5 8.5l.94-2.06 2.06-.94-2.06-.94L8.5 2.5l-.94 2.06-2.06.94zm10 10l.94 2.06.94-2.06 2.06-.94-2.06-.94-.94-2.06-.94 2.06-2.06.94z\"/><path d=\"M17.41 7.96l-1.37-1.37c-.4-.4-.92-.59-1.43-.59-.52 0-1.04.2-1.43.59L10.3 9.45l-7.72 7.72c-.78.78-.78 2.05 0 2.83L4 21.41c.39.39.9.59 1.41.59.51 0 1.02-.2 1.41-.59l7.78-7.78 2.81-2.81c.8-.78.8-2.07 0-2.86zM5.41 20L4 18.59l7.72-7.72 1.47 1.35L5.41 20z\"/>\n",
              "  </svg>\n",
              "      </button>\n",
              "      \n",
              "  <style>\n",
              "    .colab-df-container {\n",
              "      display:flex;\n",
              "      flex-wrap:wrap;\n",
              "      gap: 12px;\n",
              "    }\n",
              "\n",
              "    .colab-df-convert {\n",
              "      background-color: #E8F0FE;\n",
              "      border: none;\n",
              "      border-radius: 50%;\n",
              "      cursor: pointer;\n",
              "      display: none;\n",
              "      fill: #1967D2;\n",
              "      height: 32px;\n",
              "      padding: 0 0 0 0;\n",
              "      width: 32px;\n",
              "    }\n",
              "\n",
              "    .colab-df-convert:hover {\n",
              "      background-color: #E2EBFA;\n",
              "      box-shadow: 0px 1px 2px rgba(60, 64, 67, 0.3), 0px 1px 3px 1px rgba(60, 64, 67, 0.15);\n",
              "      fill: #174EA6;\n",
              "    }\n",
              "\n",
              "    [theme=dark] .colab-df-convert {\n",
              "      background-color: #3B4455;\n",
              "      fill: #D2E3FC;\n",
              "    }\n",
              "\n",
              "    [theme=dark] .colab-df-convert:hover {\n",
              "      background-color: #434B5C;\n",
              "      box-shadow: 0px 1px 3px 1px rgba(0, 0, 0, 0.15);\n",
              "      filter: drop-shadow(0px 1px 2px rgba(0, 0, 0, 0.3));\n",
              "      fill: #FFFFFF;\n",
              "    }\n",
              "  </style>\n",
              "\n",
              "      <script>\n",
              "        const buttonEl =\n",
              "          document.querySelector('#df-31e9c580-033c-4d61-8a25-4b4828f8a2e4 button.colab-df-convert');\n",
              "        buttonEl.style.display =\n",
              "          google.colab.kernel.accessAllowed ? 'block' : 'none';\n",
              "\n",
              "        async function convertToInteractive(key) {\n",
              "          const element = document.querySelector('#df-31e9c580-033c-4d61-8a25-4b4828f8a2e4');\n",
              "          const dataTable =\n",
              "            await google.colab.kernel.invokeFunction('convertToInteractive',\n",
              "                                                     [key], {});\n",
              "          if (!dataTable) return;\n",
              "\n",
              "          const docLinkHtml = 'Like what you see? Visit the ' +\n",
              "            '<a target=\"_blank\" href=https://colab.research.google.com/notebooks/data_table.ipynb>data table notebook</a>'\n",
              "            + ' to learn more about interactive tables.';\n",
              "          element.innerHTML = '';\n",
              "          dataTable['output_type'] = 'display_data';\n",
              "          await google.colab.output.renderOutput(dataTable, element);\n",
              "          const docLink = document.createElement('div');\n",
              "          docLink.innerHTML = docLinkHtml;\n",
              "          element.appendChild(docLink);\n",
              "        }\n",
              "      </script>\n",
              "    </div>\n",
              "  </div>\n",
              "  "
            ]
          },
          "metadata": {},
          "execution_count": 8
        }
      ]
    },
    {
      "cell_type": "markdown",
      "metadata": {
        "id": "3jebBz5VWWPr"
      },
      "source": [
        "Ahora, debe diseñar las consultas que resuelvan las siguientes preguntas usando los operadores vistos en clases.\n",
        "\n",
        "#SQL\n",
        "## Pregunta 1\n",
        "Las películas de los 80s, ordenadas por calificación de mayor a menor."
      ]
    },
    {
      "cell_type": "code",
      "metadata": {
        "colab": {
          "base_uri": "https://localhost:8080/"
        },
        "id": "-dmw_2es6Lq-",
        "outputId": "d0a4e3e6-7ee0-4319-a272-21c8c4049bed"
      },
      "source": [
        ""
      ],
      "execution_count": null,
      "outputs": [
        {
          "output_type": "stream",
          "text": [
            "UsageError: %%sql is a cell magic, but the cell body is empty. Did you mean the line magic %sql (single %)?\n"
          ],
          "name": "stderr"
        }
      ]
    },
    {
      "cell_type": "markdown",
      "metadata": {
        "id": "bXx5ydBH6LDW"
      },
      "source": [
        "## Pregunta 2\n",
        "Los nombres de los personajes que ha interpretado su actriz/actor favorito en los datos, ordenados por año."
      ]
    },
    {
      "cell_type": "code",
      "metadata": {
        "id": "i7eXykyM6e7b"
      },
      "source": [
        ""
      ],
      "execution_count": null,
      "outputs": []
    },
    {
      "cell_type": "markdown",
      "metadata": {
        "id": "VBzPnV1u7MKd"
      },
      "source": [
        "# Pregunta 3\n",
        "Las películas en las que participó su actriz/actor favorito en los datos, ordenadas por calificación de mayor a menor."
      ]
    },
    {
      "cell_type": "code",
      "metadata": {
        "id": "A_NE2bZC7Mcj"
      },
      "source": [
        ""
      ],
      "execution_count": null,
      "outputs": []
    },
    {
      "cell_type": "markdown",
      "metadata": {
        "id": "AHqOm3zw6fR2"
      },
      "source": [
        "## Pregunta 4\n",
        "Los nombres de los personajes interpretados por mujeres, en películas de los 90s, con calificación mayor a 8,7."
      ]
    },
    {
      "cell_type": "code",
      "metadata": {
        "id": "VXaANhCX6foK"
      },
      "source": [
        ""
      ],
      "execution_count": null,
      "outputs": []
    },
    {
      "cell_type": "markdown",
      "metadata": {
        "id": "tXZVP8PZ6gF4"
      },
      "source": [
        "## Pregunta 5\n",
        "Las películas de la saga \"The Lord of the Rings\" (usando el prefijo de su nombre) ordenadas por calificación y por año."
      ]
    },
    {
      "cell_type": "code",
      "metadata": {
        "id": "0OssDcFm6gYJ"
      },
      "source": [
        ""
      ],
      "execution_count": null,
      "outputs": []
    },
    {
      "cell_type": "markdown",
      "metadata": {
        "id": "Nw-zj04q6glX"
      },
      "source": [
        "## Pregunta 6\n",
        "Los nombres de los actores que interpretan más de un personaje en la misma película."
      ]
    },
    {
      "cell_type": "code",
      "metadata": {
        "id": "WRWEHceB6g7h"
      },
      "source": [
        ""
      ],
      "execution_count": null,
      "outputs": []
    },
    {
      "cell_type": "markdown",
      "metadata": {
        "id": "S_ENc-C36iNZ"
      },
      "source": [
        "## Pregunta 7\n",
        "Las películas en que actúan juntos Uma Thurman y Samuel L. Jackson."
      ]
    },
    {
      "cell_type": "code",
      "metadata": {
        "id": "myoT76rT6igC"
      },
      "source": [
        ""
      ],
      "execution_count": null,
      "outputs": []
    },
    {
      "cell_type": "markdown",
      "metadata": {
        "id": "I1Y2G_UC6i69"
      },
      "source": [
        "## Pregunta 8\n",
        "Las películas en que actúa Uma Thurman y **no** Samuel L. Jackson."
      ]
    },
    {
      "cell_type": "code",
      "metadata": {
        "id": "Lmi0vKF-6jPr"
      },
      "source": [
        ""
      ],
      "execution_count": null,
      "outputs": []
    },
    {
      "cell_type": "markdown",
      "metadata": {
        "id": "v1dev-7A6jpV"
      },
      "source": [
        "## Pregunta 9\n",
        "Los pares de actores que aparecen juntos en más de una película. Cada par debe aparecer una sola vez, es decir, si $(A,B)$ aparece, no debe aparecer $(B,A)$, pues es el mismo par. Tampoco se deben incluir pares de la forma $(A,A)$."
      ]
    },
    {
      "cell_type": "code",
      "metadata": {
        "id": "4qPtyZBU6j7z"
      },
      "source": [
        ""
      ],
      "execution_count": null,
      "outputs": []
    },
    {
      "cell_type": "markdown",
      "metadata": {
        "id": "xPxloTWK6kOb"
      },
      "source": [
        "## Pregunta 10\n",
        "La película con calificación más alta."
      ]
    },
    {
      "cell_type": "code",
      "metadata": {
        "id": "Xuvi8hCO6kpU"
      },
      "source": [
        ""
      ],
      "execution_count": null,
      "outputs": []
    }
  ]
}