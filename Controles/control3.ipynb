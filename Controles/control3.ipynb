{
  "nbformat": 4,
  "nbformat_minor": 0,
  "metadata": {
    "colab": {
      "name": "Control_3.ipynb",
      "provenance": [],
      "collapsed_sections": []
    },
    "kernelspec": {
      "name": "python3",
      "display_name": "Python 3"
    }
  },
  "cells": [
    {
      "cell_type": "code",
      "source": [
        "!pip install --upgrade --no-cache-dir gdown\n",
        "!gdown https://drive.google.com/uc?id=1mGxfX7NKoKxlpaQxvCZzq6niLpf3Ziaq"
      ],
      "metadata": {
        "colab": {
          "base_uri": "https://localhost:8080/"
        },
        "id": "sBDirdKpAexk",
        "outputId": "80ae8b8c-49bd-4a70-d73c-6df6837c5a18"
      },
      "execution_count": null,
      "outputs": [
        {
          "output_type": "stream",
          "name": "stdout",
          "text": [
            "Looking in indexes: https://pypi.org/simple, https://us-python.pkg.dev/colab-wheels/public/simple/\n",
            "Requirement already satisfied: gdown in /usr/local/lib/python3.7/dist-packages (4.4.0)\n",
            "Requirement already satisfied: requests[socks] in /usr/local/lib/python3.7/dist-packages (from gdown) (2.23.0)\n",
            "Requirement already satisfied: six in /usr/local/lib/python3.7/dist-packages (from gdown) (1.15.0)\n",
            "Requirement already satisfied: filelock in /usr/local/lib/python3.7/dist-packages (from gdown) (3.7.0)\n",
            "Requirement already satisfied: beautifulsoup4 in /usr/local/lib/python3.7/dist-packages (from gdown) (4.6.3)\n",
            "Requirement already satisfied: tqdm in /usr/local/lib/python3.7/dist-packages (from gdown) (4.64.0)\n",
            "Requirement already satisfied: urllib3!=1.25.0,!=1.25.1,<1.26,>=1.21.1 in /usr/local/lib/python3.7/dist-packages (from requests[socks]->gdown) (1.24.3)\n",
            "Requirement already satisfied: chardet<4,>=3.0.2 in /usr/local/lib/python3.7/dist-packages (from requests[socks]->gdown) (3.0.4)\n",
            "Requirement already satisfied: certifi>=2017.4.17 in /usr/local/lib/python3.7/dist-packages (from requests[socks]->gdown) (2022.5.18.1)\n",
            "Requirement already satisfied: idna<3,>=2.5 in /usr/local/lib/python3.7/dist-packages (from requests[socks]->gdown) (2.10)\n",
            "Requirement already satisfied: PySocks!=1.5.7,>=1.5.6 in /usr/local/lib/python3.7/dist-packages (from requests[socks]->gdown) (1.7.1)\n",
            "Downloading...\n",
            "From: https://drive.google.com/uc?id=1mGxfX7NKoKxlpaQxvCZzq6niLpf3Ziaq\n",
            "To: /content/VW_VOTARON_2020PLEB_Datos_completos.zip\n",
            "100% 42.0M/42.0M [00:00<00:00, 173MB/s]\n"
          ]
        }
      ]
    },
    {
      "cell_type": "code",
      "source": [
        "!unzip \"VW_VOTARON_2020PLEB_Datos_completos.zip\""
      ],
      "metadata": {
        "colab": {
          "base_uri": "https://localhost:8080/"
        },
        "id": "7kQZDmJmAkyc",
        "outputId": "d76f301e-1624-4601-d34c-82150ed096e4"
      },
      "execution_count": null,
      "outputs": [
        {
          "output_type": "stream",
          "name": "stdout",
          "text": [
            "Archive:  VW_VOTARON_2020PLEB_Datos_completos.zip\n",
            "replace VW_VOTARON_2020PLEB_Datos completos.csv? [y]es, [n]o, [A]ll, [N]one, [r]ename: y\n",
            "  inflating: VW_VOTARON_2020PLEB_Datos completos.csv  \n",
            "\n"
          ]
        }
      ]
    },
    {
      "cell_type": "code",
      "source": [
        "import pandas as pd"
      ],
      "metadata": {
        "id": "aoNEJ0DJAnWw"
      },
      "execution_count": null,
      "outputs": []
    },
    {
      "cell_type": "code",
      "source": [
        "df = pd.read_csv('VW_VOTARON_2020PLEB_Datos completos.csv', sep=';')"
      ],
      "metadata": {
        "id": "CGop1xFWAp7X"
      },
      "execution_count": null,
      "outputs": []
    },
    {
      "cell_type": "code",
      "source": [
        "df.head()"
      ],
      "metadata": {
        "colab": {
          "base_uri": "https://localhost:8080/",
          "height": 548
        },
        "id": "_1FUo9TXA4B7",
        "outputId": "da0799f8-cc6a-4f82-c9e5-4ff9e5af200a"
      },
      "execution_count": null,
      "outputs": [
        {
          "output_type": "execute_result",
          "data": {
            "text/plain": [
              "   Cedula Circunscripcion      Comuna  DV  Edad Nacionalidad Pais Domicilio  \\\n",
              "0       0       Coyhaique   Coyhaique   0    22      chilena          Chile   \n",
              "1       0       El Puerto  Valparaiso   0    89      chilena          Chile   \n",
              "2       0         Iquique     Iquique   0    99      chilena          Chile   \n",
              "3       0   Rio Tranquilo  Rio Ibañez   0    22      chilena          Chile   \n",
              "4       0       El Puerto  Valparaiso   0    95      chilena          Chile   \n",
              "\n",
              "  Pais Nacimiento                                     Partido  \\\n",
              "0           Chile  [130] FEDERACION REGIONALISTA VERDE SOCIAL   \n",
              "1           Chile                                 SIN PARTIDO   \n",
              "2           Chile                                 SIN PARTIDO   \n",
              "3           Chile                                 SIN PARTIDO   \n",
              "4           Chile                                 SIN PARTIDO   \n",
              "\n",
              "         Provincia Rango Edad                                        Region  \\\n",
              "0        Coyhaique      20-24  De Aysen Del General Carlos Ibañez Del Campo   \n",
              "1       Valparaiso     80 o +                                 De Valparaiso   \n",
              "2          Iquique     80 o +                                   De Tarapaca   \n",
              "3  General Carrera      20-24  De Aysen Del General Carlos Ibañez Del Campo   \n",
              "4       Valparaiso     80 o +                                 De Valparaiso   \n",
              "\n",
              "        Sexo    Sufragio VotoExterior  Número de registros  Votaron  \n",
              "0   femenino     sufragó     Nacional                    1      1.0  \n",
              "1   femenino  no sufragó     Nacional                    1      NaN  \n",
              "2  masculino  no sufragó     Nacional                    1      NaN  \n",
              "3  masculino     sufragó     Nacional                    1      1.0  \n",
              "4  masculino  no sufragó     Nacional                    1      NaN  "
            ],
            "text/html": [
              "\n",
              "  <div id=\"df-996595c3-2f85-4831-ada0-5f286ea16e5e\">\n",
              "    <div class=\"colab-df-container\">\n",
              "      <div>\n",
              "<style scoped>\n",
              "    .dataframe tbody tr th:only-of-type {\n",
              "        vertical-align: middle;\n",
              "    }\n",
              "\n",
              "    .dataframe tbody tr th {\n",
              "        vertical-align: top;\n",
              "    }\n",
              "\n",
              "    .dataframe thead th {\n",
              "        text-align: right;\n",
              "    }\n",
              "</style>\n",
              "<table border=\"1\" class=\"dataframe\">\n",
              "  <thead>\n",
              "    <tr style=\"text-align: right;\">\n",
              "      <th></th>\n",
              "      <th>Cedula</th>\n",
              "      <th>Circunscripcion</th>\n",
              "      <th>Comuna</th>\n",
              "      <th>DV</th>\n",
              "      <th>Edad</th>\n",
              "      <th>Nacionalidad</th>\n",
              "      <th>Pais Domicilio</th>\n",
              "      <th>Pais Nacimiento</th>\n",
              "      <th>Partido</th>\n",
              "      <th>Provincia</th>\n",
              "      <th>Rango Edad</th>\n",
              "      <th>Region</th>\n",
              "      <th>Sexo</th>\n",
              "      <th>Sufragio</th>\n",
              "      <th>VotoExterior</th>\n",
              "      <th>Número de registros</th>\n",
              "      <th>Votaron</th>\n",
              "    </tr>\n",
              "  </thead>\n",
              "  <tbody>\n",
              "    <tr>\n",
              "      <th>0</th>\n",
              "      <td>0</td>\n",
              "      <td>Coyhaique</td>\n",
              "      <td>Coyhaique</td>\n",
              "      <td>0</td>\n",
              "      <td>22</td>\n",
              "      <td>chilena</td>\n",
              "      <td>Chile</td>\n",
              "      <td>Chile</td>\n",
              "      <td>[130] FEDERACION REGIONALISTA VERDE SOCIAL</td>\n",
              "      <td>Coyhaique</td>\n",
              "      <td>20-24</td>\n",
              "      <td>De Aysen Del General Carlos Ibañez Del Campo</td>\n",
              "      <td>femenino</td>\n",
              "      <td>sufragó</td>\n",
              "      <td>Nacional</td>\n",
              "      <td>1</td>\n",
              "      <td>1.0</td>\n",
              "    </tr>\n",
              "    <tr>\n",
              "      <th>1</th>\n",
              "      <td>0</td>\n",
              "      <td>El Puerto</td>\n",
              "      <td>Valparaiso</td>\n",
              "      <td>0</td>\n",
              "      <td>89</td>\n",
              "      <td>chilena</td>\n",
              "      <td>Chile</td>\n",
              "      <td>Chile</td>\n",
              "      <td>SIN PARTIDO</td>\n",
              "      <td>Valparaiso</td>\n",
              "      <td>80 o +</td>\n",
              "      <td>De Valparaiso</td>\n",
              "      <td>femenino</td>\n",
              "      <td>no sufragó</td>\n",
              "      <td>Nacional</td>\n",
              "      <td>1</td>\n",
              "      <td>NaN</td>\n",
              "    </tr>\n",
              "    <tr>\n",
              "      <th>2</th>\n",
              "      <td>0</td>\n",
              "      <td>Iquique</td>\n",
              "      <td>Iquique</td>\n",
              "      <td>0</td>\n",
              "      <td>99</td>\n",
              "      <td>chilena</td>\n",
              "      <td>Chile</td>\n",
              "      <td>Chile</td>\n",
              "      <td>SIN PARTIDO</td>\n",
              "      <td>Iquique</td>\n",
              "      <td>80 o +</td>\n",
              "      <td>De Tarapaca</td>\n",
              "      <td>masculino</td>\n",
              "      <td>no sufragó</td>\n",
              "      <td>Nacional</td>\n",
              "      <td>1</td>\n",
              "      <td>NaN</td>\n",
              "    </tr>\n",
              "    <tr>\n",
              "      <th>3</th>\n",
              "      <td>0</td>\n",
              "      <td>Rio Tranquilo</td>\n",
              "      <td>Rio Ibañez</td>\n",
              "      <td>0</td>\n",
              "      <td>22</td>\n",
              "      <td>chilena</td>\n",
              "      <td>Chile</td>\n",
              "      <td>Chile</td>\n",
              "      <td>SIN PARTIDO</td>\n",
              "      <td>General Carrera</td>\n",
              "      <td>20-24</td>\n",
              "      <td>De Aysen Del General Carlos Ibañez Del Campo</td>\n",
              "      <td>masculino</td>\n",
              "      <td>sufragó</td>\n",
              "      <td>Nacional</td>\n",
              "      <td>1</td>\n",
              "      <td>1.0</td>\n",
              "    </tr>\n",
              "    <tr>\n",
              "      <th>4</th>\n",
              "      <td>0</td>\n",
              "      <td>El Puerto</td>\n",
              "      <td>Valparaiso</td>\n",
              "      <td>0</td>\n",
              "      <td>95</td>\n",
              "      <td>chilena</td>\n",
              "      <td>Chile</td>\n",
              "      <td>Chile</td>\n",
              "      <td>SIN PARTIDO</td>\n",
              "      <td>Valparaiso</td>\n",
              "      <td>80 o +</td>\n",
              "      <td>De Valparaiso</td>\n",
              "      <td>masculino</td>\n",
              "      <td>no sufragó</td>\n",
              "      <td>Nacional</td>\n",
              "      <td>1</td>\n",
              "      <td>NaN</td>\n",
              "    </tr>\n",
              "  </tbody>\n",
              "</table>\n",
              "</div>\n",
              "      <button class=\"colab-df-convert\" onclick=\"convertToInteractive('df-996595c3-2f85-4831-ada0-5f286ea16e5e')\"\n",
              "              title=\"Convert this dataframe to an interactive table.\"\n",
              "              style=\"display:none;\">\n",
              "        \n",
              "  <svg xmlns=\"http://www.w3.org/2000/svg\" height=\"24px\"viewBox=\"0 0 24 24\"\n",
              "       width=\"24px\">\n",
              "    <path d=\"M0 0h24v24H0V0z\" fill=\"none\"/>\n",
              "    <path d=\"M18.56 5.44l.94 2.06.94-2.06 2.06-.94-2.06-.94-.94-2.06-.94 2.06-2.06.94zm-11 1L8.5 8.5l.94-2.06 2.06-.94-2.06-.94L8.5 2.5l-.94 2.06-2.06.94zm10 10l.94 2.06.94-2.06 2.06-.94-2.06-.94-.94-2.06-.94 2.06-2.06.94z\"/><path d=\"M17.41 7.96l-1.37-1.37c-.4-.4-.92-.59-1.43-.59-.52 0-1.04.2-1.43.59L10.3 9.45l-7.72 7.72c-.78.78-.78 2.05 0 2.83L4 21.41c.39.39.9.59 1.41.59.51 0 1.02-.2 1.41-.59l7.78-7.78 2.81-2.81c.8-.78.8-2.07 0-2.86zM5.41 20L4 18.59l7.72-7.72 1.47 1.35L5.41 20z\"/>\n",
              "  </svg>\n",
              "      </button>\n",
              "      \n",
              "  <style>\n",
              "    .colab-df-container {\n",
              "      display:flex;\n",
              "      flex-wrap:wrap;\n",
              "      gap: 12px;\n",
              "    }\n",
              "\n",
              "    .colab-df-convert {\n",
              "      background-color: #E8F0FE;\n",
              "      border: none;\n",
              "      border-radius: 50%;\n",
              "      cursor: pointer;\n",
              "      display: none;\n",
              "      fill: #1967D2;\n",
              "      height: 32px;\n",
              "      padding: 0 0 0 0;\n",
              "      width: 32px;\n",
              "    }\n",
              "\n",
              "    .colab-df-convert:hover {\n",
              "      background-color: #E2EBFA;\n",
              "      box-shadow: 0px 1px 2px rgba(60, 64, 67, 0.3), 0px 1px 3px 1px rgba(60, 64, 67, 0.15);\n",
              "      fill: #174EA6;\n",
              "    }\n",
              "\n",
              "    [theme=dark] .colab-df-convert {\n",
              "      background-color: #3B4455;\n",
              "      fill: #D2E3FC;\n",
              "    }\n",
              "\n",
              "    [theme=dark] .colab-df-convert:hover {\n",
              "      background-color: #434B5C;\n",
              "      box-shadow: 0px 1px 3px 1px rgba(0, 0, 0, 0.15);\n",
              "      filter: drop-shadow(0px 1px 2px rgba(0, 0, 0, 0.3));\n",
              "      fill: #FFFFFF;\n",
              "    }\n",
              "  </style>\n",
              "\n",
              "      <script>\n",
              "        const buttonEl =\n",
              "          document.querySelector('#df-996595c3-2f85-4831-ada0-5f286ea16e5e button.colab-df-convert');\n",
              "        buttonEl.style.display =\n",
              "          google.colab.kernel.accessAllowed ? 'block' : 'none';\n",
              "\n",
              "        async function convertToInteractive(key) {\n",
              "          const element = document.querySelector('#df-996595c3-2f85-4831-ada0-5f286ea16e5e');\n",
              "          const dataTable =\n",
              "            await google.colab.kernel.invokeFunction('convertToInteractive',\n",
              "                                                     [key], {});\n",
              "          if (!dataTable) return;\n",
              "\n",
              "          const docLinkHtml = 'Like what you see? Visit the ' +\n",
              "            '<a target=\"_blank\" href=https://colab.research.google.com/notebooks/data_table.ipynb>data table notebook</a>'\n",
              "            + ' to learn more about interactive tables.';\n",
              "          element.innerHTML = '';\n",
              "          dataTable['output_type'] = 'display_data';\n",
              "          await google.colab.output.renderOutput(dataTable, element);\n",
              "          const docLink = document.createElement('div');\n",
              "          docLink.innerHTML = docLinkHtml;\n",
              "          element.appendChild(docLink);\n",
              "        }\n",
              "      </script>\n",
              "    </div>\n",
              "  </div>\n",
              "  "
            ]
          },
          "metadata": {},
          "execution_count": 3
        }
      ]
    },
    {
      "cell_type": "markdown",
      "source": [
        "**Para este control trabajaremos con una base de datos real (anonimizada) del SERVEL acerca del plebiscito, he indica si cada ciudadano voto o no en el plebiscito del 2020.**"
      ],
      "metadata": {
        "id": "nvX7ojdvUm_n"
      }
    },
    {
      "cell_type": "markdown",
      "source": [
        "#Pregunta 1\n",
        "Reemplaze en la columna 'Votaron' los NaN por 0."
      ],
      "metadata": {
        "id": "jDQSGf6eNC8L"
      }
    },
    {
      "cell_type": "markdown",
      "source": [
        "##Solución"
      ],
      "metadata": {
        "id": "c8ljtrKRNGxv"
      }
    },
    {
      "cell_type": "code",
      "source": [
        ""
      ],
      "metadata": {
        "id": "4a-bsuqRcTaN"
      },
      "execution_count": null,
      "outputs": []
    },
    {
      "cell_type": "markdown",
      "source": [
        "#Pregunta 2 \n",
        "Calcule la cantidad de registros de la tabla."
      ],
      "metadata": {
        "id": "acFzjOCIBzsa"
      }
    },
    {
      "cell_type": "code",
      "source": [
        ""
      ],
      "metadata": {
        "id": "4JEIZZUgcTvT"
      },
      "execution_count": null,
      "outputs": []
    },
    {
      "cell_type": "markdown",
      "source": [
        "**Para las siguientes preguntas, suponga que la columna 'Votaron' es un atributo sensible, y suponga que las columns 'Edad', 'Pais Nacimiento', 'Sexo' , 'Comuna' son quasi-identificadores.**\n",
        "\n",
        "#Pregunta 3\n",
        "Calcule el nivel de $k$-anonimato para los quasi-indentificadores.\n",
        "Hint: puede usar la columna 'Número de registros' para contar."
      ],
      "metadata": {
        "id": "_Fl7cmNEBBug"
      }
    },
    {
      "cell_type": "code",
      "source": [
        ""
      ],
      "metadata": {
        "id": "B4djTkrwcVJh"
      },
      "execution_count": null,
      "outputs": []
    },
    {
      "cell_type": "markdown",
      "source": [
        "#Pregunta 4\n",
        "Indique con 100% de certeza, todos los atributos de 5 individuos que no hayan votado en el plebiscito."
      ],
      "metadata": {
        "id": "-GYRxO34EYRa"
      }
    },
    {
      "cell_type": "code",
      "source": [
        ""
      ],
      "metadata": {
        "id": "fyV-lQAzccf5"
      },
      "execution_count": null,
      "outputs": []
    },
    {
      "cell_type": "markdown",
      "source": [
        "#Pregunta 5\n",
        "Generalize la columna 'Edad' usando la columna 'Rango Edad', 'Comuna' usando la columna 'Región', y  'Pais Nacimiento' por los valores 'Chile' o 'Extranjero'.\n",
        "Indique el nivel de $k$-anonimato obtenido."
      ],
      "metadata": {
        "id": "s6meu0wfHgwD"
      }
    },
    {
      "cell_type": "code",
      "source": [
        ""
      ],
      "metadata": {
        "id": "ZuBBJXWtcdYa"
      },
      "execution_count": null,
      "outputs": []
    },
    {
      "cell_type": "markdown",
      "source": [
        "#Pregunta 5\n",
        "Utilize alguna técnica para obtener al menos $3$-anonimato."
      ],
      "metadata": {
        "id": "CVX7frMUJ4bS"
      }
    },
    {
      "cell_type": "code",
      "source": [
        ""
      ],
      "metadata": {
        "id": "XmBJjZzAcgFP"
      },
      "execution_count": null,
      "outputs": []
    },
    {
      "cell_type": "markdown",
      "source": [
        "#Pregunta 6\n",
        "Calcule el nivel de $l$-diversidad de la tabla anonimizada obtenida en la pregunta anterior."
      ],
      "metadata": {
        "id": "bzVjtryAA3b0"
      }
    },
    {
      "cell_type": "code",
      "source": [
        ""
      ],
      "metadata": {
        "id": "8bVpRqodciEY"
      },
      "execution_count": null,
      "outputs": []
    },
    {
      "cell_type": "markdown",
      "source": [
        "# Pregunta 7\n",
        "Compute la cantidad de personas que votaron por cada grupo distinto de quasi-identificadores (sin generalizar). Para publicar estos datos debe usar un algoritmo que sea $0.1$-diferencialmente privado ($\\epsilon=0.1$). Asegurese de no devolver resultados\n",
        "\n",
        "Hint: usualmente la sensibilidad de una consulta de conteo es 1, y puede usar la distribución de laplace para agregar ruido."
      ],
      "metadata": {
        "id": "uvuYGuwMOKf0"
      }
    },
    {
      "cell_type": "code",
      "source": [
        "import numpy as np"
      ],
      "metadata": {
        "id": "phVpM3lCP7xv"
      },
      "execution_count": null,
      "outputs": []
    },
    {
      "cell_type": "code",
      "source": [
        ""
      ],
      "metadata": {
        "id": "JQIHx5vackGr"
      },
      "execution_count": null,
      "outputs": []
    },
    {
      "cell_type": "markdown",
      "source": [
        "#Pregunta 8\n",
        "A continuación hay dos transacciones T1 y T2 en las cuales A, B y C son tres valores distintos en la base de datos.\n",
        "\n",
        "| T1 | T2   |\n",
        "|------|------|\n",
        "|   R(A)  | R(A) |\n",
        "|   W(B, A*2)  | W(A, A-5) |\n",
        "|   R(C)  | R(C) |\n",
        "|   W(C, C-100)  | W(C, C+A)|\n",
        "\n",
        "Donde 'R(A)' representa la lectura del valor 'A', y 'W(A,B)' representa la escritura de 'A' con el valor 'B' (i.e. escribir 'B' en 'A').\n",
        "\n",
        "Para los siguientes tipos de conflictos indique si es posible que ocurra:\n",
        "\n",
        "\n",
        "\n",
        "\n",
        "\n",
        "\n"
      ],
      "metadata": {
        "id": "uf9ffsrMSiqL"
      }
    },
    {
      "cell_type": "markdown",
      "source": [
        "1.   Escritura-lectura (WR)"
      ],
      "metadata": {
        "id": "0r51TCkVT3Hj"
      }
    },
    {
      "cell_type": "markdown",
      "source": [
        "2.   Lectura-escritura (RW)\n"
      ],
      "metadata": {
        "id": "BWHZbO2XTy98"
      }
    },
    {
      "cell_type": "markdown",
      "source": [
        "\n",
        "3.   Escritura-escritura (WW)\n"
      ],
      "metadata": {
        "id": "U37S4szLTz3v"
      }
    }
  ]
}